{
 "cells": [
  {
   "cell_type": "code",
   "execution_count": 3,
   "metadata": {},
   "outputs": [],
   "source": [
    "from numpy import*"
   ]
  },
  {
   "cell_type": "code",
   "execution_count": 8,
   "metadata": {},
   "outputs": [
    {
     "name": "stdout",
     "output_type": "stream",
     "text": [
      "[0.54036598 0.56019668 0.75971726 0.39426228 0.85692558 0.44757833\n",
      " 0.31276042 0.68782721 0.19042792 0.49400806]\n"
     ]
    }
   ],
   "source": [
    "#Definindo um array com valores aleatórios\n",
    "arr = random.random(10)\n",
    "print(arr)"
   ]
  },
  {
   "cell_type": "code",
   "execution_count": 9,
   "metadata": {},
   "outputs": [
    {
     "name": "stdout",
     "output_type": "stream",
     "text": [
      "0.6664976597964712\n"
     ]
    }
   ],
   "source": [
    "#Questão 1\n",
    "# Retornar a amplitude de uma lista\n",
    "# amplitude é a diferença do maior valor pelo menor\n",
    "\n",
    "def amplitude(lista):\n",
    "    return max(lista) - min(lista)\n",
    "\n",
    "print(amplitude(arr))\n",
    "\n"
   ]
  },
  {
   "cell_type": "code",
   "execution_count": 53,
   "metadata": {},
   "outputs": [],
   "source": [
    "#Questão 2\n",
    "#RECEBER UMA STRING E IMPRIMIR A MESMA DE FORMA VERTICAL\n",
    "\n",
    "def impriVerti(word):\n",
    "    i = 0\n",
    "    fim = len(word) - 1\n",
    "    while (i <= fim): \n",
    "        print(word[i])\n",
    "        i += 1\n"
   ]
  },
  {
   "cell_type": "code",
   "execution_count": 54,
   "metadata": {},
   "outputs": [
    {
     "name": "stdin",
     "output_type": "stream",
     "text": [
      "Digite a palavra python\n"
     ]
    },
    {
     "name": "stdout",
     "output_type": "stream",
     "text": [
      "p\n",
      "y\n",
      "t\n",
      "h\n",
      "o\n",
      "n\n",
      "None\n"
     ]
    }
   ],
   "source": [
    "word = input(\"Digite a palavra\")\n",
    "\n",
    "print(impriVerti(word))"
   ]
  },
  {
   "cell_type": "code",
   "execution_count": 55,
   "metadata": {},
   "outputs": [],
   "source": [
    "#QUESTÃO 3\n",
    "\n",
    "def pagamento(peso):\n",
    "    if (peso <= 10):\n",
    "        print(\"TOTAL A PAGAR 50R$\")\n",
    "    elif ( (peso > 10) and (peso <= 20) ):\n",
    "        print(\"TOTAL A PAGAR 80R$\")\n",
    "    else:\n",
    "        print(\"TRANSPORTE NÃO ACEITO\")"
   ]
  },
  {
   "cell_type": "code",
   "execution_count": 63,
   "metadata": {},
   "outputs": [
    {
     "name": "stdout",
     "output_type": "stream",
     "text": [
      "TOTAL A PAGAR 50R$\n",
      "TOTAL A PAGAR 80R$\n",
      "TRANSPORTE NÃO ACEITO\n",
      "TOTAL A PAGAR 80R$\n",
      "TOTAL A PAGAR 50R$\n"
     ]
    }
   ],
   "source": [
    "#Definir uma lista com valores de teste\n",
    "\n",
    "lst = [9, 15, 22, 11, 9.9]\n",
    "\n",
    "for n in range (0, len(lst)):\n",
    "    pagamento(lst[n])"
   ]
  },
  {
   "cell_type": "code",
   "execution_count": null,
   "metadata": {},
   "outputs": [],
   "source": []
  }
 ],
 "metadata": {
  "kernelspec": {
   "display_name": "Python 3",
   "language": "python",
   "name": "python3"
  },
  "language_info": {
   "codemirror_mode": {
    "name": "ipython",
    "version": 3
   },
   "file_extension": ".py",
   "mimetype": "text/x-python",
   "name": "python",
   "nbconvert_exporter": "python",
   "pygments_lexer": "ipython3",
   "version": "3.8.5"
  }
 },
 "nbformat": 4,
 "nbformat_minor": 4
}
